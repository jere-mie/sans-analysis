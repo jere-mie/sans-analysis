{
 "cells": [
  {
   "cell_type": "code",
   "execution_count": 1,
   "metadata": {},
   "outputs": [],
   "source": [
    "# place imports here\n",
    "# this cell failing? Try doing \"control-shift-p\" then select \"restart kernel\"\n",
    "from import_helper import matrices as mt\n",
    "import numpy as np"
   ]
  },
  {
   "cell_type": "code",
   "execution_count": 2,
   "metadata": {},
   "outputs": [
    {
     "name": "stdout",
     "output_type": "stream",
     "text": [
      "(1150, 101, 200)\n",
      "2549.249267578125\n",
      "525.01318359375\n"
     ]
    }
   ],
   "source": [
    "# This is how we would generate F\n",
    "# F = mt.generateF(50, 1, 1150, 0.001, 0.00499, 101, 0, 1, 200)\n",
    "F = mt.readFBin('data-fig-7.bin', (1150, 101, 200))\n",
    "print(F.shape)\n",
    "print(F[0][0][0])\n",
    "print(F[-1][-1][-1])\n"
   ]
  }
 ],
 "metadata": {
  "interpreter": {
   "hash": "2be5faf79681da6f2a61fdfdd5405d65d042280f7fba6178067603e3a2925119"
  },
  "kernelspec": {
   "display_name": "Python 3.10.0 64-bit",
   "language": "python",
   "name": "python3"
  },
  "language_info": {
   "codemirror_mode": {
    "name": "ipython",
    "version": 3
   },
   "file_extension": ".py",
   "mimetype": "text/x-python",
   "name": "python",
   "nbconvert_exporter": "python",
   "pygments_lexer": "ipython3",
   "version": "3.10.0"
  },
  "orig_nbformat": 4
 },
 "nbformat": 4,
 "nbformat_minor": 2
}
